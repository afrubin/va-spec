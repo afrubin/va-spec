{
 "cells": [
  {
   "cell_type": "code",
   "execution_count": 32,
   "outputs": [],
   "source": [
    "from jsonschema import validate\n",
    "import pathlib"
   ],
   "metadata": {
    "collapsed": false,
    "pycharm": {
     "name": "#%%\n"
    }
   }
  },
  {
   "cell_type": "code",
   "execution_count": 35,
   "outputs": [
    {
     "data": {
      "text/plain": "'file:///Users/ahw001/git/va-spec/schema'"
     },
     "execution_count": 35,
     "metadata": {},
     "output_type": "execute_result"
    }
   ],
   "source": [
    "SCHEMA_DIR = pathlib.Path.cwd().parent / 'schema'\n",
    "SCHEMA_URI_ROOT = \"file://\" + str(SCHEMA_DIR)\n",
    "SCHEMA_URI_ROOT"
   ],
   "metadata": {
    "collapsed": false,
    "pycharm": {
     "name": "#%%\n"
    }
   }
  },
  {
   "cell_type": "code",
   "execution_count": 39,
   "outputs": [],
   "source": [
    "# Check that Allele from example validates as a Variation\n",
    "\n",
    "schema = {\n",
    "   \"$ref\": SCHEMA_URI_ROOT + \"/vrs.json#definitions/Variation\"\n",
    "}\n",
    "\n",
    "allele = {\n",
    "        \"_id\": \"ga4gh:VA.Z9tYtztQ5hkRNOajjdJolwkHSBfDYXH0\",\n",
    "        \"type\": \"Allele\",\n",
    "        \"location\":\n",
    "        {\n",
    "          \"_id\": \"ga4gh:VSL.rrTlrvGnEyknV7tJhO8sQSSC2LhqyuxX\",\n",
    "          \"type\": \"SequenceLocation\",\n",
    "          \"sequence_id\": \"ga4gh:SQ.Ya6Rs7DHhDeg7YaOSg1EoNi3U_nQ9SvO\",\n",
    "          \"interval\":\n",
    "          {\n",
    "            \"type\": \"SequenceInterval\",\n",
    "            \"start\":\n",
    "            {\n",
    "              \"type\": \"Number\",\n",
    "              \"value\": 11124515\n",
    "            },\n",
    "            \"end\":\n",
    "            {\n",
    "              \"type\": \"Number\",\n",
    "              \"value\": 11124516\n",
    "            }\n",
    "          }\n",
    "        },\n",
    "        \"state\":\n",
    "        {\n",
    "          \"type\": \"LiteralSequenceExpression\",\n",
    "          \"sequence\": \"T\"\n",
    "        }\n",
    "      }\n",
    "\n",
    "assert validate(allele, schema) is None"
   ],
   "metadata": {
    "collapsed": false,
    "pycharm": {
     "name": "#%%\n"
    }
   }
  },
  {
   "cell_type": "code",
   "execution_count": null,
   "outputs": [],
   "source": [],
   "metadata": {
    "collapsed": false,
    "pycharm": {
     "name": "#%%\n"
    }
   }
  }
 ],
 "metadata": {
  "kernelspec": {
   "display_name": "Python 3",
   "language": "python",
   "name": "python3"
  },
  "language_info": {
   "codemirror_mode": {
    "name": "ipython",
    "version": 2
   },
   "file_extension": ".py",
   "mimetype": "text/x-python",
   "name": "python",
   "nbconvert_exporter": "python",
   "pygments_lexer": "ipython2",
   "version": "2.7.6"
  }
 },
 "nbformat": 4,
 "nbformat_minor": 0
}