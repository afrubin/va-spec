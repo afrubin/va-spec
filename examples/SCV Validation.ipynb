{
 "cells": [
  {
   "cell_type": "code",
   "execution_count": 1,
   "outputs": [],
   "source": [
    "from jsonschema import validate\n",
    "import pathlib\n",
    "import yaml"
   ],
   "metadata": {
    "collapsed": false,
    "pycharm": {
     "name": "#%%\n"
    }
   }
  },
  {
   "cell_type": "code",
   "execution_count": 2,
   "outputs": [
    {
     "data": {
      "text/plain": "'file:///Users/ahw001/git/va-spec/schema'"
     },
     "execution_count": 2,
     "metadata": {},
     "output_type": "execute_result"
    }
   ],
   "source": [
    "SCHEMA_DIR = pathlib.Path.cwd().parent / 'schema'\n",
    "SCHEMA_URI_ROOT = \"file://\" + str(SCHEMA_DIR)\n",
    "SCHEMA_URI_ROOT"
   ],
   "metadata": {
    "collapsed": false,
    "pycharm": {
     "name": "#%%\n"
    }
   }
  },
  {
   "cell_type": "markdown",
   "source": [
    "## Validation testing"
   ],
   "metadata": {
    "collapsed": false,
    "pycharm": {
     "name": "#%% md\n"
    }
   }
  },
  {
   "cell_type": "code",
   "execution_count": 3,
   "outputs": [],
   "source": [
    "# Check that Allele from example validates as a Variation\n",
    "\n",
    "schema = {\n",
    "   \"$ref\": SCHEMA_URI_ROOT + \"/vrs.json#/definitions/Variation\"\n",
    "}\n",
    "\n",
    "allele = {\n",
    "        \"id\": \"ga4gh:VA.Z9tYtztQ5hkRNOajjdJolwkHSBfDYXH0\",\n",
    "        \"type\": \"Allele\",\n",
    "        \"location\":\n",
    "        {\n",
    "          \"id\": \"ga4gh:VSL.rrTlrvGnEyknV7tJhO8sQSSC2LhqyuxX\",\n",
    "          \"type\": \"SequenceLocation\",\n",
    "          \"sequence_id\": \"ga4gh:SQ.Ya6Rs7DHhDeg7YaOSg1EoNi3U_nQ9SvO\",\n",
    "          \"interval\":\n",
    "          {\n",
    "            \"type\": \"SequenceInterval\",\n",
    "            \"start\":\n",
    "            {\n",
    "              \"type\": \"Number\",\n",
    "              \"value\": 11124515\n",
    "            },\n",
    "            \"end\":\n",
    "            {\n",
    "              \"type\": \"Number\",\n",
    "              \"value\": 11124516\n",
    "            }\n",
    "          }\n",
    "        },\n",
    "        \"state\":\n",
    "        {\n",
    "          \"type\": \"LiteralSequenceExpression\",\n",
    "          \"sequence\": \"T\"\n",
    "        }\n",
    "      }\n",
    "\n",
    "assert validate(allele, schema) is None"
   ],
   "metadata": {
    "collapsed": false,
    "pycharm": {
     "name": "#%%\n"
    }
   }
  },
  {
   "cell_type": "code",
   "execution_count": 10,
   "outputs": [],
   "source": [
    "# Validate SCV Example\n",
    "\n",
    "def get_schema(schema_file, schema_class, kw=\"$defs\"):\n",
    "   return {\n",
    "      \"$ref\": SCHEMA_URI_ROOT + f\"/{schema_file}.json#/{kw}/{schema_class}\"\n",
    "   }\n",
    "\n",
    "schema = get_schema(\"annotation\", \"VariationGermlineConditionStatement\")\n",
    "\n",
    "with open('VA-ClinVar-SCV-Example-001.yaml') as yf:\n",
    "   scv = yaml.load(yf, Loader=yaml.SafeLoader)\n",
    "\n",
    "assert validate(scv, schema) is None\n"
   ],
   "metadata": {
    "collapsed": false,
    "pycharm": {
     "name": "#%%\n"
    }
   }
  },
  {
   "cell_type": "markdown",
   "source": [
    "## Data prep"
   ],
   "metadata": {
    "collapsed": false,
    "pycharm": {
     "name": "#%% md\n"
    }
   }
  },
  {
   "cell_type": "raw",
   "source": [
    "def json2yaml(json_fp):\n",
    "   fp = pathlib.Path(json_fp)\n",
    "   with open(json_fp) as f:\n",
    "      js = json.load(f)\n",
    "   with open(fp.with_suffix('.yaml'), 'w') as fo:\n",
    "      yaml.dump(js, fo)\n",
    "\n",
    "json2yaml('VA-ClinVar-SCV-Example-001.json')"
   ],
   "metadata": {
    "collapsed": false,
    "pycharm": {
     "name": "#%% raw\n"
    }
   }
  }
 ],
 "metadata": {
  "kernelspec": {
   "display_name": "Python 3",
   "language": "python",
   "name": "python3"
  },
  "language_info": {
   "codemirror_mode": {
    "name": "ipython",
    "version": 2
   },
   "file_extension": ".py",
   "mimetype": "text/x-python",
   "name": "python",
   "nbconvert_exporter": "python",
   "pygments_lexer": "ipython2",
   "version": "2.7.6"
  }
 },
 "nbformat": 4,
 "nbformat_minor": 0
}