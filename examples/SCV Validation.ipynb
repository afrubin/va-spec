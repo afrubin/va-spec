{
 "cells": [
  {
   "cell_type": "code",
   "execution_count": 13,
   "outputs": [],
   "source": [
    "from jsonschema import validate\n",
    "import pathlib\n",
    "import yaml"
   ],
   "metadata": {
    "collapsed": false,
    "pycharm": {
     "name": "#%%\n"
    }
   }
  },
  {
   "cell_type": "code",
   "execution_count": 2,
   "outputs": [
    {
     "data": {
      "text/plain": "'file:///Users/ahw001/git/va-spec/schema'"
     },
     "execution_count": 2,
     "metadata": {},
     "output_type": "execute_result"
    }
   ],
   "source": [
    "SCHEMA_DIR = pathlib.Path.cwd().parent / 'schema'\n",
    "SCHEMA_URI_ROOT = \"file://\" + str(SCHEMA_DIR)\n",
    "SCHEMA_URI_ROOT"
   ],
   "metadata": {
    "collapsed": false,
    "pycharm": {
     "name": "#%%\n"
    }
   }
  },
  {
   "cell_type": "markdown",
   "source": [
    "## Validation testing"
   ],
   "metadata": {
    "collapsed": false,
    "pycharm": {
     "name": "#%% md\n"
    }
   }
  },
  {
   "cell_type": "code",
   "execution_count": 29,
   "outputs": [],
   "source": [
    "# Check that Allele from example validates as a Variation\n",
    "\n",
    "schema = {\n",
    "   \"$ref\": SCHEMA_URI_ROOT + \"/vrs.json#/definitions/Variation\"\n",
    "}\n",
    "\n",
    "allele = {\n",
    "        \"id\": \"ga4gh:VA.Z9tYtztQ5hkRNOajjdJolwkHSBfDYXH0\",\n",
    "        \"type\": \"Allele\",\n",
    "        \"location\":\n",
    "        {\n",
    "          \"id\": \"ga4gh:VSL.rrTlrvGnEyknV7tJhO8sQSSC2LhqyuxX\",\n",
    "          \"type\": \"SequenceLocation\",\n",
    "          \"sequence_id\": \"ga4gh:SQ.Ya6Rs7DHhDeg7YaOSg1EoNi3U_nQ9SvO\",\n",
    "          \"interval\":\n",
    "          {\n",
    "            \"type\": \"SequenceInterval\",\n",
    "            \"start\":\n",
    "            {\n",
    "              \"type\": \"Number\",\n",
    "              \"value\": 11124515\n",
    "            },\n",
    "            \"end\":\n",
    "            {\n",
    "              \"type\": \"Number\",\n",
    "              \"value\": 11124516\n",
    "            }\n",
    "          }\n",
    "        },\n",
    "        \"state\":\n",
    "        {\n",
    "          \"type\": \"LiteralSequenceExpression\",\n",
    "          \"sequence\": \"T\"\n",
    "        }\n",
    "      }\n",
    "\n",
    "assert validate(allele, schema) is None"
   ],
   "metadata": {
    "collapsed": false,
    "pycharm": {
     "name": "#%%\n"
    }
   }
  },
  {
   "cell_type": "code",
   "execution_count": 43,
   "outputs": [
    {
     "ename": "ValidationError",
     "evalue": "{'condition_id': 'MEDGEN:CN300503', 'type': 'Condition'} is valid under each of {'$ref': '#/$defs/Phenotype'}, {'$ref': '#/$defs/Disease'}\n\nFailed validating 'oneOf' in schema['properties']['target_proposition']['properties']['condition']['properties']['members']['items']:\n    {'oneOf': [{'$ref': '#/$defs/Disease'}, {'$ref': '#/$defs/Phenotype'}]}\n\nOn instance['target_proposition']['condition']['members'][0]:\n    {'condition_id': 'MEDGEN:CN300503', 'type': 'Condition'}",
     "output_type": "error",
     "traceback": [
      "\u001B[0;31m---------------------------------------------------------------------------\u001B[0m",
      "\u001B[0;31mValidationError\u001B[0m                           Traceback (most recent call last)",
      "Input \u001B[0;32mIn [43]\u001B[0m, in \u001B[0;36m<cell line: 13>\u001B[0;34m()\u001B[0m\n\u001B[1;32m     10\u001B[0m \u001B[38;5;28;01mwith\u001B[39;00m \u001B[38;5;28mopen\u001B[39m(\u001B[38;5;124m'\u001B[39m\u001B[38;5;124mVA-ClinVar-SCV-Example-001.yaml\u001B[39m\u001B[38;5;124m'\u001B[39m) \u001B[38;5;28;01mas\u001B[39;00m yf:\n\u001B[1;32m     11\u001B[0m    scv \u001B[38;5;241m=\u001B[39m yaml\u001B[38;5;241m.\u001B[39mload(yf, Loader\u001B[38;5;241m=\u001B[39myaml\u001B[38;5;241m.\u001B[39mSafeLoader)\n\u001B[0;32m---> 13\u001B[0m \u001B[38;5;28;01massert\u001B[39;00m \u001B[43mvalidate\u001B[49m\u001B[43m(\u001B[49m\u001B[43mscv\u001B[49m\u001B[43m,\u001B[49m\u001B[43m \u001B[49m\u001B[43mschema\u001B[49m\u001B[43m)\u001B[49m \u001B[38;5;129;01mis\u001B[39;00m \u001B[38;5;28;01mNone\u001B[39;00m\n",
      "File \u001B[0;32m~/.local/share/virtualenvs/va-spec-IASC-yDQ/lib/python3.9/site-packages/jsonschema/validators.py:1059\u001B[0m, in \u001B[0;36mvalidate\u001B[0;34m(instance, schema, cls, *args, **kwargs)\u001B[0m\n\u001B[1;32m   1057\u001B[0m error \u001B[38;5;241m=\u001B[39m exceptions\u001B[38;5;241m.\u001B[39mbest_match(validator\u001B[38;5;241m.\u001B[39miter_errors(instance))\n\u001B[1;32m   1058\u001B[0m \u001B[38;5;28;01mif\u001B[39;00m error \u001B[38;5;129;01mis\u001B[39;00m \u001B[38;5;129;01mnot\u001B[39;00m \u001B[38;5;28;01mNone\u001B[39;00m:\n\u001B[0;32m-> 1059\u001B[0m     \u001B[38;5;28;01mraise\u001B[39;00m error\n",
      "\u001B[0;31mValidationError\u001B[0m: {'condition_id': 'MEDGEN:CN300503', 'type': 'Condition'} is valid under each of {'$ref': '#/$defs/Phenotype'}, {'$ref': '#/$defs/Disease'}\n\nFailed validating 'oneOf' in schema['properties']['target_proposition']['properties']['condition']['properties']['members']['items']:\n    {'oneOf': [{'$ref': '#/$defs/Disease'}, {'$ref': '#/$defs/Phenotype'}]}\n\nOn instance['target_proposition']['condition']['members'][0]:\n    {'condition_id': 'MEDGEN:CN300503', 'type': 'Condition'}"
     ]
    }
   ],
   "source": [
    "# Validate SCV Example\n",
    "\n",
    "def get_schema(schema_file, schema_class, kw=\"$defs\"):\n",
    "   return {\n",
    "      \"$ref\": SCHEMA_URI_ROOT + f\"/{schema_file}.json#/{kw}/{schema_class}\"\n",
    "   }\n",
    "\n",
    "schema = get_schema(\"annotation\", \"VariationPathogenicityStatement\")\n",
    "\n",
    "with open('VA-ClinVar-SCV-Example-001.yaml') as yf:\n",
    "   scv = yaml.load(yf, Loader=yaml.SafeLoader)\n",
    "\n",
    "assert validate(scv, schema) is None\n"
   ],
   "metadata": {
    "collapsed": false,
    "pycharm": {
     "name": "#%%\n"
    }
   }
  },
  {
   "cell_type": "code",
   "execution_count": 38,
   "outputs": [],
   "source": [
    "vd = scv['variation_descriptor']\n",
    "schema = get_schema(\"vod\", \"CategoricalVariationDescriptor\")\n",
    "\n",
    "assert validate(vd, schema) is None"
   ],
   "metadata": {
    "collapsed": false,
    "pycharm": {
     "name": "#%%\n"
    }
   }
  },
  {
   "cell_type": "code",
   "execution_count": 42,
   "outputs": [],
   "source": [
    "can_allele = scv['target_proposition']['variation']\n",
    "schema = get_schema(\"catvars\", \"CanonicalVariation\")\n",
    "\n",
    "assert validate(can_allele, schema) is None"
   ],
   "metadata": {
    "collapsed": false,
    "pycharm": {
     "name": "#%%\n"
    }
   }
  },
  {
   "cell_type": "markdown",
   "source": [
    "## Data prep"
   ],
   "metadata": {
    "collapsed": false,
    "pycharm": {
     "name": "#%% md\n"
    }
   }
  },
  {
   "cell_type": "raw",
   "source": [
    "def json2yaml(json_fp):\n",
    "   fp = pathlib.Path(json_fp)\n",
    "   with open(json_fp) as f:\n",
    "      js = json.load(f)\n",
    "   with open(fp.with_suffix('.yaml'), 'w') as fo:\n",
    "      yaml.dump(js, fo)\n",
    "\n",
    "json2yaml('VA-ClinVar-SCV-Example-001.json')"
   ],
   "metadata": {
    "collapsed": false,
    "pycharm": {
     "name": "#%% raw\n"
    }
   }
  }
 ],
 "metadata": {
  "kernelspec": {
   "display_name": "Python 3",
   "language": "python",
   "name": "python3"
  },
  "language_info": {
   "codemirror_mode": {
    "name": "ipython",
    "version": 2
   },
   "file_extension": ".py",
   "mimetype": "text/x-python",
   "name": "python",
   "nbconvert_exporter": "python",
   "pygments_lexer": "ipython2",
   "version": "2.7.6"
  }
 },
 "nbformat": 4,
 "nbformat_minor": 0
}