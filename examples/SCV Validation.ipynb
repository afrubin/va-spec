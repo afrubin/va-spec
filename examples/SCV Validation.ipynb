{
 "cells": [
  {
   "cell_type": "code",
   "execution_count": 5,
   "outputs": [],
   "source": [
    "from jsonschema import validate\n",
    "import pathlib\n",
    "import yaml\n",
    "import json"
   ],
   "metadata": {
    "collapsed": false,
    "pycharm": {
     "name": "#%%\n"
    }
   }
  },
  {
   "cell_type": "code",
   "execution_count": 6,
   "outputs": [
    {
     "data": {
      "text/plain": "'file:///Users/ahw001/git/va-spec/schema'"
     },
     "execution_count": 6,
     "metadata": {},
     "output_type": "execute_result"
    }
   ],
   "source": [
    "SCHEMA_DIR = pathlib.Path.cwd().parent / 'schema'\n",
    "SCHEMA_URI_ROOT = \"file://\" + str(SCHEMA_DIR)\n",
    "SCHEMA_URI_ROOT"
   ],
   "metadata": {
    "collapsed": false,
    "pycharm": {
     "name": "#%%\n"
    }
   }
  },
  {
   "cell_type": "markdown",
   "source": [
    "## Validation testing"
   ],
   "metadata": {
    "collapsed": false,
    "pycharm": {
     "name": "#%% md\n"
    }
   }
  },
  {
   "cell_type": "code",
   "execution_count": 7,
   "outputs": [],
   "source": [
    "# Check that Allele from example validates as a Variation\n",
    "\n",
    "schema = {\n",
    "   \"$ref\": SCHEMA_URI_ROOT + \"/vrs.json#/definitions/Variation\"\n",
    "}\n",
    "\n",
    "allele = {\n",
    "        \"_id\": \"ga4gh:VA.Z9tYtztQ5hkRNOajjdJolwkHSBfDYXH0\",\n",
    "        \"type\": \"Allele\",\n",
    "        \"location\":\n",
    "        {\n",
    "          \"_id\": \"ga4gh:VSL.rrTlrvGnEyknV7tJhO8sQSSC2LhqyuxX\",\n",
    "          \"type\": \"SequenceLocation\",\n",
    "          \"sequence_id\": \"ga4gh:SQ.Ya6Rs7DHhDeg7YaOSg1EoNi3U_nQ9SvO\",\n",
    "          \"interval\":\n",
    "          {\n",
    "            \"type\": \"SequenceInterval\",\n",
    "            \"start\":\n",
    "            {\n",
    "              \"type\": \"Number\",\n",
    "              \"value\": 11124515\n",
    "            },\n",
    "            \"end\":\n",
    "            {\n",
    "              \"type\": \"Number\",\n",
    "              \"value\": 11124516\n",
    "            }\n",
    "          }\n",
    "        },\n",
    "        \"state\":\n",
    "        {\n",
    "          \"type\": \"LiteralSequenceExpression\",\n",
    "          \"sequence\": \"T\"\n",
    "        }\n",
    "      }\n",
    "\n",
    "assert validate(allele, schema) is None"
   ],
   "metadata": {
    "collapsed": false,
    "pycharm": {
     "name": "#%%\n"
    }
   }
  },
  {
   "cell_type": "code",
   "execution_count": 8,
   "outputs": [
    {
     "ename": "ValidationError",
     "evalue": "Additional properties are not allowed ('condition', 'contributions', 'description', 'id', 'method', 'recordMetaData', 'strength', 'variation' were unexpected)\n\nFailed validating 'additionalProperties' in schema:\n    {'additionalProperties': False,\n     'description': 'A Statement describing the pathogenicity of a '\n                    'variation.',\n     'properties': {'_id': {'$ref': 'core.json#/$defs/CURIE',\n                            'description': \"The 'logical' identifier of \"\n                                           'the entity in the system of '\n                                           \"record, e.g. a UUID. This 'id' \"\n                                           'is  unique within a given '\n                                           'system. The identified entity '\n                                           \"may have a different 'id' in a \"\n                                           'different  system.'},\n                    'classification': {'description': 'The conclusion '\n                                                      'drawn from the '\n                                                      'statement '\n                                                      'proposition, '\n                                                      'significance, '\n                                                      'confidence level, '\n                                                      'and/or  confidence '\n                                                      'score.',\n                                       'enum': ['Pathogenic',\n                                                'Likely Pathogenic',\n                                                'Variant of Uncertain '\n                                                'Significance',\n                                                'Likely Benign',\n                                                'Benign'],\n                                       'type': 'string'},\n                    'conclusion': {'description': 'The conclusion drawn '\n                                                  'from the statement '\n                                                  'proposition, '\n                                                  'significance, '\n                                                  'confidence level, '\n                                                  'and/or  confidence '\n                                                  'score.',\n                                   'type': 'string'},\n                    'confidence_level': {'description': 'A qualitative '\n                                                        'term describing '\n                                                        'the degree of '\n                                                        'confidence held '\n                                                        'by the creator of '\n                                                        'the information '\n                                                        'entity,  that the '\n                                                        'information it '\n                                                        'represents is '\n                                                        'true.',\n                                         'enum': ['strong',\n                                                  'likely',\n                                                  'uncertain'],\n                                         'type': 'string'},\n                    'confidence_score': {'description': 'A quantitative '\n                                                        'score reflecting '\n                                                        'the degree of '\n                                                        'confidence held '\n                                                        'by the creator of '\n                                                        'the information  '\n                                                        'entity, that the '\n                                                        'information it '\n                                                        'represents is '\n                                                        'true.',\n                                         'type': 'DataItem'},\n                    'extensions': {'items': {'$ref': 'core.json#/$defs/Extension'},\n                                   'type': 'array'},\n                    'significance': {'description': 'The significance of '\n                                                    'this statement with '\n                                                    'respect to the target '\n                                                    'proposition.',\n                                     'enum': ['supports',\n                                              'uncertain',\n                                              'refutes'],\n                                     'type': 'string'},\n                    'target_proposition': {'$ref': '#/$defs/Proposition',\n                                           'description': 'The Proposition '\n                                                          'about which the '\n                                                          'Statement is '\n                                                          'made.'},\n                    'type': {'const': 'VariationPathogenicityStatement',\n                             'default': 'VariationPathogenicityStatement',\n                             'description': 'MUST be '\n                                            '\"VariationPathogenicityStatement\".',\n                             'type': 'string'}},\n     'required': ['type']}\n\nOn instance:\n    {'conclusion': 'Pathogenic',\n     'condition': {'condition_set_id': 'clinvar-traitset_id:123',\n                   'id': '??',\n                   'type': 'ConditionSetDescriptor'},\n     'contributions': [{'agent': {'id': 'clinvar-submitter:123',\n                                  'name': 'ClinGen Brain Malformations '\n                                          'Variant Curation Expert Panel',\n                                  'type': 'Agent'},\n                        'date': '2022-02-17',\n                        'role': 'evaluator',\n                        'type': 'Contribution'},\n                       {'agent': {'id': 'clinvar-submitter:123',\n                                  'name': 'ClinGen Brain Malformations '\n                                          'Variant Curation Expert Panel',\n                                  'type': 'Agent'},\n                        'date': '2022-02-18',\n                        'role': 'approver',\n                        'type': 'Contribution'},\n                       {'agent': {'id': 'genegraph:cvc1',\n                                  'name': \"ClinGen's ClinVar Variant \"\n                                          'Curation Transformation System',\n                                  'type': 'Agent'},\n                        'date': '2022-07-31',\n                        'role': 'transformer',\n                        'type': 'Contribution'}],\n     'description': 'The c.6644C>A (NM_004958.4) variant in MTOR is a '\n                    'missense variant predicted to cause substitution of '\n                    '(p.Ser2215Tyr). This variant is absent from gnomAD '\n                    'v2.1.1 (PM2_Supporting). MTOR, in which the variant '\n                    'was identified, is defined by the ClinGen Brain '\n                    'Malformations Expert Panel as a gene that has a low '\n                    'rate of benign missense variation and where '\n                    'pathogenic missense variants are a common mechanism '\n                    'of disease (PP2). A different amino acid change '\n                    '(p.Ser2215Phe), at this locus, is classified as '\n                    'pathogenic for Overgrowth with or without cerebral '\n                    'malformations due to abnormalities in MTOR-pathway '\n                    'genes by the ClinGen BMEP (PM5). This variant has '\n                    'been shown to significantly increase phosphorylation '\n                    'levels in experiments with case and controls cells of '\n                    'similar isogenic backgrounds indicating that this '\n                    'variant impacts protein function (PMIDs: 20190810, '\n                    '24631838, 28963468) (PS3_Supporting). The prevalence '\n                    'of the variant in affected individuals is '\n                    'significantly increased compared with the prevalence '\n                    'in controls (PS4; PMID: 27830187, 29281825, '\n                    '225401301, 26619011; identified in 5 individuals with '\n                    'neuropathology confirmatory of a malformation of '\n                    'cortical development, 1 individual with neuroimaging '\n                    'appearance consistent with a malformation of cortical '\n                    'development (without neuropathology), 1 individual '\n                    'with neuroimaging demonstrating at least one large '\n                    'cerebral hemisphere with cortical malformation(s), 15 '\n                    'tumor samples in the literature and COSMIC). Testing '\n                    'of unaffected and affected tissue show variable '\n                    'allelic fractions consistent with a post-zygotic '\n                    'event (PS2_Moderate; PMID: 26018084). In summary, '\n                    'this variant meets the criteria to be classified as '\n                    'Pathogenic for mosaic autosomal dominant overgrowth '\n                    'with or without cerebral malformations due to '\n                    'abnormalities in MTOR-pathway genes based on the '\n                    'ACMG/AMP criteria applied, as specified by the '\n                    'ClinGen Brain Malformations Expert Panel: PM2_P, PP2, '\n                    'PM5, PS3_P, PS4, PS2_M; 11 points (VCEP '\n                    'specifications version 1; Approved: 1/31/2021)',\n     'extensions': [{'name': 'clinvar-review-status',\n                     'type': 'Extension',\n                     'value': {'label': 'reviewed by expert panel',\n                               'value': '3-star'}},\n                    {'name': 'clinvar-scv-methods',\n                     'type': 'Extension',\n                     'value': ['curation']},\n                    {'name': 'clinvar-scv-affected-statuses',\n                     'type': 'Extension',\n                     'value': ['unknown']},\n                    {'name': 'clinvar-scv-allele-origins',\n                     'type': 'Extension',\n                     'value': ['germline']}],\n     'id': 'cvc-scv:SCV001949955-20220101',\n     'method': {'id': 'cspec:123134',\n                'is_reported_in': 'PMID:1231231231',\n                'label': 'Clingen BrainMalform ACMG Specifications v1',\n                'type': 'Method'},\n     'recordMetaData': {'id': '',\n                        'is_version_of': 'clinvar-scv:SCV001949955',\n                        'type': 'RecordMetadata',\n                        'version': '2'},\n     'significance': 'supports',\n     'strength': 'strong',\n     'target_proposition': {'association': 'is_germline_disease_causing',\n                            'condition': {'id': 'clinvar-measurset_id:123',\n                                          'members': [{'condition_id': 'MEDGEN:CN300503',\n                                                       'type': 'Condition'}],\n                                          'type': 'ConditionSet'},\n                            'type': 'VariationPathogenicityProposition',\n                            'variation': {'_id': 'ga4gh:CV.NOajjdJolwkNOajjdJolwkNOajjdJolwk',\n                                          'type': 'CanonicalVariation',\n                                          'variation': {'_id': 'ga4gh:VA.Z9tYtztQ5hkRNOajjdJolwkHSBfDYXH0',\n                                                        'location': {'_id': 'ga4gh:VSL.rrTlrvGnEyknV7tJhO8sQSSC2LhqyuxX',\n                                                                     'interval': {'end': {'type': 'Number',\n                                                                                          'value': 11124516},\n                                                                                  'start': {'type': 'Number',\n                                                                                            'value': 11124515},\n                                                                                  'type': 'SequenceInterval'},\n                                                                     'sequence_id': 'ga4gh:SQ.Ya6Rs7DHhDeg7YaOSg1EoNi3U_nQ9SvO',\n                                                                     'type': 'SequenceLocation'},\n                                                        'state': {'sequence': 'T',\n                                                                  'type': 'LiteralSequenceExpression'},\n                                                        'type': 'Allele'}}},\n     'type': 'VariationPathogenicityStatement',\n     'variation': {'extension': [],\n                   'id': 'clinvar:376129',\n                   'label': 'NM_004958.4(MTOR):c.6644C>A (p.Ser2215Tyr)',\n                   'members': [],\n                   'type': 'CanonicalVariationDescriptor',\n                   'variation_id': 'ga4gh:CV.NOajjdJolwkNOajjdJolwkNOajjdJolwk'}}",
     "output_type": "error",
     "traceback": [
      "\u001B[0;31m---------------------------------------------------------------------------\u001B[0m",
      "\u001B[0;31mValidationError\u001B[0m                           Traceback (most recent call last)",
      "Input \u001B[0;32mIn [8]\u001B[0m, in \u001B[0;36m<cell line: 10>\u001B[0;34m()\u001B[0m\n\u001B[1;32m      7\u001B[0m \u001B[38;5;28;01mwith\u001B[39;00m \u001B[38;5;28mopen\u001B[39m(\u001B[38;5;124m'\u001B[39m\u001B[38;5;124mVA-ClinVar-SCV-Example-001.yaml\u001B[39m\u001B[38;5;124m'\u001B[39m) \u001B[38;5;28;01mas\u001B[39;00m yf:\n\u001B[1;32m      8\u001B[0m    scv \u001B[38;5;241m=\u001B[39m yaml\u001B[38;5;241m.\u001B[39mload(yf, Loader\u001B[38;5;241m=\u001B[39myaml\u001B[38;5;241m.\u001B[39mSafeLoader)\n\u001B[0;32m---> 10\u001B[0m \u001B[38;5;28;01massert\u001B[39;00m \u001B[43mvalidate\u001B[49m\u001B[43m(\u001B[49m\u001B[43mscv\u001B[49m\u001B[43m,\u001B[49m\u001B[43m \u001B[49m\u001B[43mschema\u001B[49m\u001B[43m)\u001B[49m \u001B[38;5;129;01mis\u001B[39;00m \u001B[38;5;28;01mNone\u001B[39;00m\n",
      "File \u001B[0;32m~/.local/share/virtualenvs/va-spec-IASC-yDQ/lib/python3.9/site-packages/jsonschema/validators.py:1059\u001B[0m, in \u001B[0;36mvalidate\u001B[0;34m(instance, schema, cls, *args, **kwargs)\u001B[0m\n\u001B[1;32m   1057\u001B[0m error \u001B[38;5;241m=\u001B[39m exceptions\u001B[38;5;241m.\u001B[39mbest_match(validator\u001B[38;5;241m.\u001B[39miter_errors(instance))\n\u001B[1;32m   1058\u001B[0m \u001B[38;5;28;01mif\u001B[39;00m error \u001B[38;5;129;01mis\u001B[39;00m \u001B[38;5;129;01mnot\u001B[39;00m \u001B[38;5;28;01mNone\u001B[39;00m:\n\u001B[0;32m-> 1059\u001B[0m     \u001B[38;5;28;01mraise\u001B[39;00m error\n",
      "\u001B[0;31mValidationError\u001B[0m: Additional properties are not allowed ('condition', 'contributions', 'description', 'id', 'method', 'recordMetaData', 'strength', 'variation' were unexpected)\n\nFailed validating 'additionalProperties' in schema:\n    {'additionalProperties': False,\n     'description': 'A Statement describing the pathogenicity of a '\n                    'variation.',\n     'properties': {'_id': {'$ref': 'core.json#/$defs/CURIE',\n                            'description': \"The 'logical' identifier of \"\n                                           'the entity in the system of '\n                                           \"record, e.g. a UUID. This 'id' \"\n                                           'is  unique within a given '\n                                           'system. The identified entity '\n                                           \"may have a different 'id' in a \"\n                                           'different  system.'},\n                    'classification': {'description': 'The conclusion '\n                                                      'drawn from the '\n                                                      'statement '\n                                                      'proposition, '\n                                                      'significance, '\n                                                      'confidence level, '\n                                                      'and/or  confidence '\n                                                      'score.',\n                                       'enum': ['Pathogenic',\n                                                'Likely Pathogenic',\n                                                'Variant of Uncertain '\n                                                'Significance',\n                                                'Likely Benign',\n                                                'Benign'],\n                                       'type': 'string'},\n                    'conclusion': {'description': 'The conclusion drawn '\n                                                  'from the statement '\n                                                  'proposition, '\n                                                  'significance, '\n                                                  'confidence level, '\n                                                  'and/or  confidence '\n                                                  'score.',\n                                   'type': 'string'},\n                    'confidence_level': {'description': 'A qualitative '\n                                                        'term describing '\n                                                        'the degree of '\n                                                        'confidence held '\n                                                        'by the creator of '\n                                                        'the information '\n                                                        'entity,  that the '\n                                                        'information it '\n                                                        'represents is '\n                                                        'true.',\n                                         'enum': ['strong',\n                                                  'likely',\n                                                  'uncertain'],\n                                         'type': 'string'},\n                    'confidence_score': {'description': 'A quantitative '\n                                                        'score reflecting '\n                                                        'the degree of '\n                                                        'confidence held '\n                                                        'by the creator of '\n                                                        'the information  '\n                                                        'entity, that the '\n                                                        'information it '\n                                                        'represents is '\n                                                        'true.',\n                                         'type': 'DataItem'},\n                    'extensions': {'items': {'$ref': 'core.json#/$defs/Extension'},\n                                   'type': 'array'},\n                    'significance': {'description': 'The significance of '\n                                                    'this statement with '\n                                                    'respect to the target '\n                                                    'proposition.',\n                                     'enum': ['supports',\n                                              'uncertain',\n                                              'refutes'],\n                                     'type': 'string'},\n                    'target_proposition': {'$ref': '#/$defs/Proposition',\n                                           'description': 'The Proposition '\n                                                          'about which the '\n                                                          'Statement is '\n                                                          'made.'},\n                    'type': {'const': 'VariationPathogenicityStatement',\n                             'default': 'VariationPathogenicityStatement',\n                             'description': 'MUST be '\n                                            '\"VariationPathogenicityStatement\".',\n                             'type': 'string'}},\n     'required': ['type']}\n\nOn instance:\n    {'conclusion': 'Pathogenic',\n     'condition': {'condition_set_id': 'clinvar-traitset_id:123',\n                   'id': '??',\n                   'type': 'ConditionSetDescriptor'},\n     'contributions': [{'agent': {'id': 'clinvar-submitter:123',\n                                  'name': 'ClinGen Brain Malformations '\n                                          'Variant Curation Expert Panel',\n                                  'type': 'Agent'},\n                        'date': '2022-02-17',\n                        'role': 'evaluator',\n                        'type': 'Contribution'},\n                       {'agent': {'id': 'clinvar-submitter:123',\n                                  'name': 'ClinGen Brain Malformations '\n                                          'Variant Curation Expert Panel',\n                                  'type': 'Agent'},\n                        'date': '2022-02-18',\n                        'role': 'approver',\n                        'type': 'Contribution'},\n                       {'agent': {'id': 'genegraph:cvc1',\n                                  'name': \"ClinGen's ClinVar Variant \"\n                                          'Curation Transformation System',\n                                  'type': 'Agent'},\n                        'date': '2022-07-31',\n                        'role': 'transformer',\n                        'type': 'Contribution'}],\n     'description': 'The c.6644C>A (NM_004958.4) variant in MTOR is a '\n                    'missense variant predicted to cause substitution of '\n                    '(p.Ser2215Tyr). This variant is absent from gnomAD '\n                    'v2.1.1 (PM2_Supporting). MTOR, in which the variant '\n                    'was identified, is defined by the ClinGen Brain '\n                    'Malformations Expert Panel as a gene that has a low '\n                    'rate of benign missense variation and where '\n                    'pathogenic missense variants are a common mechanism '\n                    'of disease (PP2). A different amino acid change '\n                    '(p.Ser2215Phe), at this locus, is classified as '\n                    'pathogenic for Overgrowth with or without cerebral '\n                    'malformations due to abnormalities in MTOR-pathway '\n                    'genes by the ClinGen BMEP (PM5). This variant has '\n                    'been shown to significantly increase phosphorylation '\n                    'levels in experiments with case and controls cells of '\n                    'similar isogenic backgrounds indicating that this '\n                    'variant impacts protein function (PMIDs: 20190810, '\n                    '24631838, 28963468) (PS3_Supporting). The prevalence '\n                    'of the variant in affected individuals is '\n                    'significantly increased compared with the prevalence '\n                    'in controls (PS4; PMID: 27830187, 29281825, '\n                    '225401301, 26619011; identified in 5 individuals with '\n                    'neuropathology confirmatory of a malformation of '\n                    'cortical development, 1 individual with neuroimaging '\n                    'appearance consistent with a malformation of cortical '\n                    'development (without neuropathology), 1 individual '\n                    'with neuroimaging demonstrating at least one large '\n                    'cerebral hemisphere with cortical malformation(s), 15 '\n                    'tumor samples in the literature and COSMIC). Testing '\n                    'of unaffected and affected tissue show variable '\n                    'allelic fractions consistent with a post-zygotic '\n                    'event (PS2_Moderate; PMID: 26018084). In summary, '\n                    'this variant meets the criteria to be classified as '\n                    'Pathogenic for mosaic autosomal dominant overgrowth '\n                    'with or without cerebral malformations due to '\n                    'abnormalities in MTOR-pathway genes based on the '\n                    'ACMG/AMP criteria applied, as specified by the '\n                    'ClinGen Brain Malformations Expert Panel: PM2_P, PP2, '\n                    'PM5, PS3_P, PS4, PS2_M; 11 points (VCEP '\n                    'specifications version 1; Approved: 1/31/2021)',\n     'extensions': [{'name': 'clinvar-review-status',\n                     'type': 'Extension',\n                     'value': {'label': 'reviewed by expert panel',\n                               'value': '3-star'}},\n                    {'name': 'clinvar-scv-methods',\n                     'type': 'Extension',\n                     'value': ['curation']},\n                    {'name': 'clinvar-scv-affected-statuses',\n                     'type': 'Extension',\n                     'value': ['unknown']},\n                    {'name': 'clinvar-scv-allele-origins',\n                     'type': 'Extension',\n                     'value': ['germline']}],\n     'id': 'cvc-scv:SCV001949955-20220101',\n     'method': {'id': 'cspec:123134',\n                'is_reported_in': 'PMID:1231231231',\n                'label': 'Clingen BrainMalform ACMG Specifications v1',\n                'type': 'Method'},\n     'recordMetaData': {'id': '',\n                        'is_version_of': 'clinvar-scv:SCV001949955',\n                        'type': 'RecordMetadata',\n                        'version': '2'},\n     'significance': 'supports',\n     'strength': 'strong',\n     'target_proposition': {'association': 'is_germline_disease_causing',\n                            'condition': {'id': 'clinvar-measurset_id:123',\n                                          'members': [{'condition_id': 'MEDGEN:CN300503',\n                                                       'type': 'Condition'}],\n                                          'type': 'ConditionSet'},\n                            'type': 'VariationPathogenicityProposition',\n                            'variation': {'_id': 'ga4gh:CV.NOajjdJolwkNOajjdJolwkNOajjdJolwk',\n                                          'type': 'CanonicalVariation',\n                                          'variation': {'_id': 'ga4gh:VA.Z9tYtztQ5hkRNOajjdJolwkHSBfDYXH0',\n                                                        'location': {'_id': 'ga4gh:VSL.rrTlrvGnEyknV7tJhO8sQSSC2LhqyuxX',\n                                                                     'interval': {'end': {'type': 'Number',\n                                                                                          'value': 11124516},\n                                                                                  'start': {'type': 'Number',\n                                                                                            'value': 11124515},\n                                                                                  'type': 'SequenceInterval'},\n                                                                     'sequence_id': 'ga4gh:SQ.Ya6Rs7DHhDeg7YaOSg1EoNi3U_nQ9SvO',\n                                                                     'type': 'SequenceLocation'},\n                                                        'state': {'sequence': 'T',\n                                                                  'type': 'LiteralSequenceExpression'},\n                                                        'type': 'Allele'}}},\n     'type': 'VariationPathogenicityStatement',\n     'variation': {'extension': [],\n                   'id': 'clinvar:376129',\n                   'label': 'NM_004958.4(MTOR):c.6644C>A (p.Ser2215Tyr)',\n                   'members': [],\n                   'type': 'CanonicalVariationDescriptor',\n                   'variation_id': 'ga4gh:CV.NOajjdJolwkNOajjdJolwkNOajjdJolwk'}}"
     ]
    }
   ],
   "source": [
    "# Validate SCV Example\n",
    "\n",
    "schema = {\n",
    "   \"$ref\": SCHEMA_URI_ROOT + \"/annotation.json#/$defs/VariationPathogenicityStatement\"\n",
    "}\n",
    "\n",
    "with open('VA-ClinVar-SCV-Example-001.yaml') as yf:\n",
    "   scv = yaml.load(yf, Loader=yaml.SafeLoader)\n",
    "\n",
    "assert validate(scv, schema) is None\n"
   ],
   "metadata": {
    "collapsed": false,
    "pycharm": {
     "name": "#%%\n"
    }
   }
  },
  {
   "cell_type": "markdown",
   "source": [
    "## Data prep"
   ],
   "metadata": {
    "collapsed": false,
    "pycharm": {
     "name": "#%% md\n"
    }
   }
  },
  {
   "cell_type": "raw",
   "source": [
    "def json2yaml(json_fp):\n",
    "   fp = pathlib.Path(json_fp)\n",
    "   with open(json_fp) as f:\n",
    "      js = json.load(f)\n",
    "   with open(fp.with_suffix('.yaml'), 'w') as fo:\n",
    "      yaml.dump(js, fo)\n",
    "\n",
    "json2yaml('VA-ClinVar-SCV-Example-001.json')"
   ],
   "metadata": {
    "collapsed": false,
    "pycharm": {
     "name": "#%% raw\n"
    }
   }
  }
 ],
 "metadata": {
  "kernelspec": {
   "display_name": "Python 3",
   "language": "python",
   "name": "python3"
  },
  "language_info": {
   "codemirror_mode": {
    "name": "ipython",
    "version": 2
   },
   "file_extension": ".py",
   "mimetype": "text/x-python",
   "name": "python",
   "nbconvert_exporter": "python",
   "pygments_lexer": "ipython2",
   "version": "2.7.6"
  }
 },
 "nbformat": 4,
 "nbformat_minor": 0
}