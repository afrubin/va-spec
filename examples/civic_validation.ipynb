{
 "cells": [
  {
   "cell_type": "code",
   "execution_count": 1,
   "metadata": {
    "collapsed": true,
    "pycharm": {
     "name": "#%%\n"
    }
   },
   "outputs": [],
   "source": [
    "from jsonschema import validate\n",
    "import pathlib\n",
    "import json"
   ]
  },
  {
   "cell_type": "code",
   "execution_count": 2,
   "metadata": {
    "collapsed": false,
    "pycharm": {
     "name": "#%%\n"
    }
   },
   "outputs": [
    {
     "data": {
      "text/plain": [
       "'file:///Users/kxk102/Documents/genomic_med_lab/va-spec/va-spec/schema'"
      ]
     },
     "execution_count": 2,
     "metadata": {},
     "output_type": "execute_result"
    }
   ],
   "source": [
    "SCHEMA_DIR = pathlib.Path.cwd().parent / 'schema'\n",
    "SCHEMA_URI_ROOT = \"file://\" + str(SCHEMA_DIR)\n",
    "SCHEMA_URI_ROOT"
   ]
  },
  {
   "cell_type": "code",
   "execution_count": 3,
   "metadata": {
    "collapsed": false,
    "pycharm": {
     "name": "#%%\n"
    }
   },
   "outputs": [],
   "source": [
    "with open('civic_data/civic_cdm_metaschema_variation_descriptors_20220906.json') as jf:\n",
    "   vd_records = json.load(jf)"
   ]
  },
  {
   "cell_type": "code",
   "execution_count": 4,
   "metadata": {
    "collapsed": false,
    "pycharm": {
     "name": "#%%\n"
    }
   },
   "outputs": [],
   "source": [
    "variation_descriptor_schema = {\n",
    "   \"type\": \"array\",\n",
    "   \"items\": {\n",
    "      \"$ref\": SCHEMA_URI_ROOT + \"/vod.json#/definitions/VariationDescriptor\"\n",
    "   },\n",
    "   \"additionalProperties\": False,\n",
    "   \"minItems\": 1\n",
    "}"
   ]
  },
  {
   "cell_type": "code",
   "execution_count": 5,
   "metadata": {
    "collapsed": false,
    "pycharm": {
     "name": "#%%\n"
    }
   },
   "outputs": [],
   "source": [
    "validate(vd_records, variation_descriptor_schema)"
   ]
  },
  {
   "cell_type": "code",
   "execution_count": null,
   "metadata": {
    "collapsed": false,
    "pycharm": {
     "name": "#%%\n"
    }
   },
   "outputs": [],
   "source": [
    "with open('civic_data/civic_cdm_metaschema_statements_20220906.json') as jf:\n",
    "   statement_records = json.load(jf)"
   ]
  },
  {
   "cell_type": "code",
   "execution_count": null,
   "metadata": {
    "collapsed": false,
    "pycharm": {
     "name": "#%%\n"
    }
   },
   "outputs": [],
   "source": [
    "statement_file_schema = {\n",
    "   \"$schema\": \"http://json-schema.org/draft/2020-12/schema\",\n",
    "   \"type\": \"array\",\n",
    "   \"items\": {\n",
    "      \"oneOf\": [\n",
    "          {\"$ref\": SCHEMA_URI_ROOT + \"/annotation.json#/$defs/VariationGermlinePathogenicityStatement\"},\n",
    "          {\"$ref\": SCHEMA_URI_ROOT + \"/annotation.json#/$defs/VariationNeoplasmTherapeuticResponseStatement\"},\n",
    "      ]\n",
    "   },\n",
    "   \"additionalProperties\": False,\n",
    "   \"minItems\": 1\n",
    "}"
   ]
  },
  {
   "cell_type": "code",
   "execution_count": null,
   "metadata": {
    "collapsed": false,
    "pycharm": {
     "name": "#%%\n"
    }
   },
   "outputs": [],
   "source": [
    "validate(statement_records, statement_file_schema)"
   ]
  },
  {
   "cell_type": "code",
   "execution_count": null,
   "metadata": {
    "collapsed": false,
    "pycharm": {
     "name": "#%%\n"
    }
   },
   "outputs": [],
   "source": [
    "with open('civic_data/civic_cdm_metaschema_methods_20220906.json') as jf:\n",
    "    method_records = json.load(jf)"
   ]
  },
  {
   "cell_type": "code",
   "execution_count": null,
   "metadata": {
    "collapsed": false,
    "pycharm": {
     "name": "#%%\n"
    }
   },
   "outputs": [],
   "source": [
    "method_file_schema = {\n",
    "   \"type\": \"array\",\n",
    "   \"items\": {\n",
    "      \"$ref\": SCHEMA_URI_ROOT + \"/annotation.json#/$defs/Method\"\n",
    "   },\n",
    "   \"additionalProperties\": False,\n",
    "   \"minItems\": 1\n",
    "}"
   ]
  },
  {
   "cell_type": "code",
   "execution_count": null,
   "metadata": {
    "collapsed": false,
    "pycharm": {
     "name": "#%%\n"
    }
   },
   "outputs": [],
   "source": [
    "validate(method_records, method_file_schema)"
   ]
  }
 ],
 "metadata": {
  "kernelspec": {
   "display_name": "Python 3",
   "language": "python",
   "name": "python3"
  },
  "language_info": {
   "codemirror_mode": {
    "name": "ipython",
    "version": 2
   },
   "file_extension": ".py",
   "mimetype": "text/x-python",
   "name": "python",
   "nbconvert_exporter": "python",
   "pygments_lexer": "ipython2",
   "version": "2.7.6"
  }
 },
 "nbformat": 4,
 "nbformat_minor": 0
}
